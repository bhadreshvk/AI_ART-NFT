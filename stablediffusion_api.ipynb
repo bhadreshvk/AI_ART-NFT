{
 "cells": [
  {
   "cell_type": "code",
   "execution_count": null,
   "metadata": {},
   "outputs": [],
   "source": [
    "!nvidia-smi"
   ]
  },
  {
   "cell_type": "code",
   "execution_count": null,
   "metadata": {},
   "outputs": [],
   "source": [
    "!pip install diffusers==0.4.0\n",
    "!pip install transformers scipy ftfy\n",
    "!pip install \"ipywidgets>=7,<8\""
   ]
  },
  {
   "cell_type": "code",
   "execution_count": null,
   "metadata": {},
   "outputs": [],
   "source": [
    "from google.colab import output\n",
    "output.enable_custom_widget_manager()"
   ]
  },
  {
   "cell_type": "code",
   "execution_count": null,
   "metadata": {},
   "outputs": [],
   "source": [
    "import torch\n",
    "from diffusers import StableDiffusionPipeline\n",
    "\n",
    "# make sure you're logged in with `huggingface-cli login`\n",
    "pipe = StableDiffusionPipeline.from_pretrained(\"CompVis/stable-diffusion-v1-4\", revision=\"fp16\", torch_dtype=torch.float16)  "
   ]
  },
  {
   "cell_type": "code",
   "execution_count": null,
   "metadata": {},
   "outputs": [],
   "source": [
    "pipe = pipe.to(\"cuda\")"
   ]
  },
  {
   "cell_type": "code",
   "execution_count": null,
   "metadata": {},
   "outputs": [],
   "source": [
    "prompt = \"a photograph of an astronaut riding a horse\"\n",
    "image = pipe(prompt).images[0]  # image here is in [PIL format](https://pillow.readthedocs.io/en/stable/)\n",
    "\n",
    "# Now to display an image you can do either save it such as:\n",
    "image.save(f\"AI_ART.png\")\n",
    "\n",
    "# or if you're in a google colab you can directly display it with \n",
    "image"
   ]
  },
  {
   "cell_type": "code",
   "execution_count": null,
   "metadata": {},
   "outputs": [],
   "source": [
    "import time\n",
    "import nft_storage\n",
    "from nft_storage.api import nft_storage_api\n",
    "from nft_storage.model.error_response import ErrorResponse\n",
    "from nft_storage.model.upload_response import UploadResponse\n",
    "from nft_storage.model.unauthorized_error_response import UnauthorizedErrorResponse\n",
    "from nft_storage.model.forbidden_error_response import ForbiddenErrorResponse\n",
    "from pprint import pprint\n",
    "\n",
    "\n",
    "\n",
    "\n",
    "# The client must configure the authentication and authorization parameters\n",
    "# in accordance with the API server security policy.\n",
    "# Examples for each auth method are provided below, use the example that\n",
    "# satisfies your auth use case.\n",
    "\n",
    "# Configure Bearer authorization (JWT): bearerAuth\n",
    "configuration = nft_storage.Configuration(\n",
    "    access_token = '' # enter your API key here\n",
    ")\n",
    "\n",
    "# Enter a context with an instance of the API client\n",
    "with nft_storage.ApiClient(configuration) as api_client:\n",
    "    # Create an instance of the API class\n",
    "    api_instance = nft_storage_api.NFTStorageAPI(api_client)\n",
    "    \n",
    "    for i in range(1, 11):\n",
    "        body = open(f'.AI_ART.png', 'rb')   # path to your image\n",
    "        try:\n",
    "            # Store a file\n",
    "            api_response = api_instance.store(body)\n",
    "            pprint(api_response)\n",
    "        except nft_storage.ApiException as e:\n",
    "            print(\"Exception when calling NFTStorageAPI->store: %s\\n\" % e)"
   ]
  }
 ],
 "metadata": {
  "language_info": {
   "name": "python"
  },
  "orig_nbformat": 4
 },
 "nbformat": 4,
 "nbformat_minor": 2
}
